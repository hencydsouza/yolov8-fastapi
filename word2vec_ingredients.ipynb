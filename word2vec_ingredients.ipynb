{
 "cells": [
  {
   "cell_type": "code",
   "execution_count": 1,
   "metadata": {},
   "outputs": [],
   "source": [
    "import pandas as pd"
   ]
  },
  {
   "cell_type": "code",
   "execution_count": 2,
   "metadata": {},
   "outputs": [],
   "source": [
    "import os\n",
    "import sys\n",
    "import logging\n",
    "\n",
    "import numpy as np\n",
    "# import pandas as pd \n",
    "\n",
    "from gensim.models import Word2Vec\n",
    "\n",
    "import config\n",
    "from ingredient_parser import ingredient_parser\n",
    "\n",
    "sys.path.append('..')\n",
    "\n",
    "if sys.platform == 'linux':\n",
    "    path = config.LINUX_PATH\n",
    "else:\n",
    "    path = config.OS_PATH\n",
    "# os.chdir(path)"
   ]
  },
  {
   "cell_type": "code",
   "execution_count": 4,
   "metadata": {},
   "outputs": [
    {
     "data": {
      "text/html": [
       "<div>\n",
       "<style scoped>\n",
       "    .dataframe tbody tr th:only-of-type {\n",
       "        vertical-align: middle;\n",
       "    }\n",
       "\n",
       "    .dataframe tbody tr th {\n",
       "        vertical-align: top;\n",
       "    }\n",
       "\n",
       "    .dataframe thead th {\n",
       "        text-align: right;\n",
       "    }\n",
       "</style>\n",
       "<table border=\"1\" class=\"dataframe\">\n",
       "  <thead>\n",
       "    <tr style=\"text-align: right;\">\n",
       "      <th></th>\n",
       "      <th>Srno</th>\n",
       "      <th>recipe_name</th>\n",
       "      <th>ingredients</th>\n",
       "      <th>PrepTimeInMins</th>\n",
       "      <th>CookTimeInMins</th>\n",
       "      <th>TotalTimeInMins</th>\n",
       "      <th>Servings</th>\n",
       "      <th>Cuisine</th>\n",
       "      <th>Course</th>\n",
       "      <th>Diet</th>\n",
       "      <th>TranslatedInstructions</th>\n",
       "      <th>recipe_urls</th>\n",
       "      <th>ingredients_parsed</th>\n",
       "      <th>parsed_new</th>\n",
       "    </tr>\n",
       "  </thead>\n",
       "  <tbody>\n",
       "    <tr>\n",
       "      <th>0</th>\n",
       "      <td>1</td>\n",
       "      <td>Masala Karela Recipe</td>\n",
       "      <td>['6 Karela (Bitter Gourd/ Pavakkai) - deseeded...</td>\n",
       "      <td>15</td>\n",
       "      <td>30</td>\n",
       "      <td>45</td>\n",
       "      <td>6</td>\n",
       "      <td>Indian</td>\n",
       "      <td>Side Dish</td>\n",
       "      <td>Diabetic Friendly</td>\n",
       "      <td>To begin making the Masala Karela Recipe,de-se...</td>\n",
       "      <td>https://www.archanaskitchen.com/masala-karela-...</td>\n",
       "      <td>['karela', 'onion', 'flour', 'amchur mango', '...</td>\n",
       "      <td>[karela, onion, flour, amchur mango, sunflower...</td>\n",
       "    </tr>\n",
       "    <tr>\n",
       "      <th>1</th>\n",
       "      <td>2</td>\n",
       "      <td>Spicy Tomato Rice (Recipe)</td>\n",
       "      <td>['2-1 / 2 cups rice - cooked', ' 3 tomatoes', ...</td>\n",
       "      <td>5</td>\n",
       "      <td>10</td>\n",
       "      <td>15</td>\n",
       "      <td>3</td>\n",
       "      <td>South Indian Recipes</td>\n",
       "      <td>Main Course</td>\n",
       "      <td>Vegetarian</td>\n",
       "      <td>To make tomato puliogere, first cut the tomato...</td>\n",
       "      <td>http://www.archanaskitchen.com/spicy-tomato-ri...</td>\n",
       "      <td>['rice', 'tomato', 'bc belle bhat', 'per', 'ch...</td>\n",
       "      <td>[rice, tomato, bc belle bhat, per, chickpea le...</td>\n",
       "    </tr>\n",
       "    <tr>\n",
       "      <th>2</th>\n",
       "      <td>3</td>\n",
       "      <td>Ragi Semiya Upma Recipe - Ragi Millet Vermicel...</td>\n",
       "      <td>['1-1/2 cups Rice Vermicelli Noodles (Thin)', ...</td>\n",
       "      <td>20</td>\n",
       "      <td>30</td>\n",
       "      <td>50</td>\n",
       "      <td>4</td>\n",
       "      <td>South Indian Recipes</td>\n",
       "      <td>South Indian Breakfast</td>\n",
       "      <td>High Protein Vegetarian</td>\n",
       "      <td>To begin making the Ragi Vermicelli Recipe, fi...</td>\n",
       "      <td>http://www.archanaskitchen.com/ragi-vermicelli...</td>\n",
       "      <td>['rice vermicelli noodle', 'onion', 'carrot', ...</td>\n",
       "      <td>[rice vermicelli noodle, onion, carrot, pea, u...</td>\n",
       "    </tr>\n",
       "    <tr>\n",
       "      <th>3</th>\n",
       "      <td>4</td>\n",
       "      <td>Gongura Chicken Curry Recipe - Andhra Style Go...</td>\n",
       "      <td>['500 grams Chicken', '2 Onion - chopped', '1 ...</td>\n",
       "      <td>15</td>\n",
       "      <td>30</td>\n",
       "      <td>45</td>\n",
       "      <td>4</td>\n",
       "      <td>Andhra</td>\n",
       "      <td>Lunch</td>\n",
       "      <td>Non Vegeterian</td>\n",
       "      <td>To begin making Gongura Chicken Curry Recipe f...</td>\n",
       "      <td>http://www.archanaskitchen.com/gongura-chicken...</td>\n",
       "      <td>['chicken', 'onion', 'tomato', 'slit', 'masala...</td>\n",
       "      <td>[chicken, onion, tomato, slit, masala, sesame,...</td>\n",
       "    </tr>\n",
       "    <tr>\n",
       "      <th>4</th>\n",
       "      <td>5</td>\n",
       "      <td>Andhra Style Alam Pachadi Recipe - Adrak Chutn...</td>\n",
       "      <td>['1 tablespoon chana dal', ' 1 tablespoon whit...</td>\n",
       "      <td>10</td>\n",
       "      <td>20</td>\n",
       "      <td>30</td>\n",
       "      <td>4</td>\n",
       "      <td>Andhra</td>\n",
       "      <td>South Indian Breakfast</td>\n",
       "      <td>Vegetarian</td>\n",
       "      <td>To make Andhra Style Alam Pachadi, first heat ...</td>\n",
       "      <td>https://www.archanaskitchen.com/andhra-style-a...</td>\n",
       "      <td>['chana dal', 'urad dal', 'chop', 'onion chop'...</td>\n",
       "      <td>[chana dal, urad dal, chop, onion chop, tomato...</td>\n",
       "    </tr>\n",
       "  </tbody>\n",
       "</table>\n",
       "</div>"
      ],
      "text/plain": [
       "   Srno                                        recipe_name  \\\n",
       "0     1                               Masala Karela Recipe   \n",
       "1     2                         Spicy Tomato Rice (Recipe)   \n",
       "2     3  Ragi Semiya Upma Recipe - Ragi Millet Vermicel...   \n",
       "3     4  Gongura Chicken Curry Recipe - Andhra Style Go...   \n",
       "4     5  Andhra Style Alam Pachadi Recipe - Adrak Chutn...   \n",
       "\n",
       "                                         ingredients  PrepTimeInMins  \\\n",
       "0  ['6 Karela (Bitter Gourd/ Pavakkai) - deseeded...              15   \n",
       "1  ['2-1 / 2 cups rice - cooked', ' 3 tomatoes', ...               5   \n",
       "2  ['1-1/2 cups Rice Vermicelli Noodles (Thin)', ...              20   \n",
       "3  ['500 grams Chicken', '2 Onion - chopped', '1 ...              15   \n",
       "4  ['1 tablespoon chana dal', ' 1 tablespoon whit...              10   \n",
       "\n",
       "   CookTimeInMins  TotalTimeInMins  Servings               Cuisine  \\\n",
       "0              30               45         6                Indian   \n",
       "1              10               15         3  South Indian Recipes   \n",
       "2              30               50         4  South Indian Recipes   \n",
       "3              30               45         4                Andhra   \n",
       "4              20               30         4                Andhra   \n",
       "\n",
       "                   Course                     Diet  \\\n",
       "0               Side Dish        Diabetic Friendly   \n",
       "1             Main Course               Vegetarian   \n",
       "2  South Indian Breakfast  High Protein Vegetarian   \n",
       "3                   Lunch           Non Vegeterian   \n",
       "4  South Indian Breakfast               Vegetarian   \n",
       "\n",
       "                              TranslatedInstructions  \\\n",
       "0  To begin making the Masala Karela Recipe,de-se...   \n",
       "1  To make tomato puliogere, first cut the tomato...   \n",
       "2  To begin making the Ragi Vermicelli Recipe, fi...   \n",
       "3  To begin making Gongura Chicken Curry Recipe f...   \n",
       "4  To make Andhra Style Alam Pachadi, first heat ...   \n",
       "\n",
       "                                         recipe_urls  \\\n",
       "0  https://www.archanaskitchen.com/masala-karela-...   \n",
       "1  http://www.archanaskitchen.com/spicy-tomato-ri...   \n",
       "2  http://www.archanaskitchen.com/ragi-vermicelli...   \n",
       "3  http://www.archanaskitchen.com/gongura-chicken...   \n",
       "4  https://www.archanaskitchen.com/andhra-style-a...   \n",
       "\n",
       "                                  ingredients_parsed  \\\n",
       "0  ['karela', 'onion', 'flour', 'amchur mango', '...   \n",
       "1  ['rice', 'tomato', 'bc belle bhat', 'per', 'ch...   \n",
       "2  ['rice vermicelli noodle', 'onion', 'carrot', ...   \n",
       "3  ['chicken', 'onion', 'tomato', 'slit', 'masala...   \n",
       "4  ['chana dal', 'urad dal', 'chop', 'onion chop'...   \n",
       "\n",
       "                                          parsed_new  \n",
       "0  [karela, onion, flour, amchur mango, sunflower...  \n",
       "1  [rice, tomato, bc belle bhat, per, chickpea le...  \n",
       "2  [rice vermicelli noodle, onion, carrot, pea, u...  \n",
       "3  [chicken, onion, tomato, slit, masala, sesame,...  \n",
       "4  [chana dal, urad dal, chop, onion chop, tomato...  "
      ]
     },
     "execution_count": 4,
     "metadata": {},
     "output_type": "execute_result"
    }
   ],
   "source": [
    "data = pd.read_csv('input/df_parsed_new.csv')\n",
    "data['parsed_new'] = data.ingredients.apply(ingredient_parser)\n",
    "data.head()"
   ]
  },
  {
   "cell_type": "code",
   "execution_count": 5,
   "metadata": {},
   "outputs": [
    {
     "name": "stdout",
     "output_type": "stream",
     "text": [
      "Length of corpus: 6303\n"
     ]
    }
   ],
   "source": [
    "# get corpus with the documents sorted in alphabetical order\n",
    "def get_and_sort_corpus(data):\n",
    "    corpus_sorted = []\n",
    "    for doc in data.parsed_new.values:\n",
    "        doc.sort()\n",
    "        corpus_sorted.append(doc)\n",
    "    return corpus_sorted\n",
    "\n",
    "corpus = get_and_sort_corpus(data)\n",
    "print(f\"Length of corpus: {len(corpus)}\")"
   ]
  },
  {
   "cell_type": "code",
   "execution_count": 6,
   "metadata": {},
   "outputs": [
    {
     "data": {
      "text/plain": [
       "6.856100269712835"
      ]
     },
     "execution_count": 6,
     "metadata": {},
     "output_type": "execute_result"
    }
   ],
   "source": [
    "# calculate average length of each document \n",
    "lengths = [len(doc) for doc in corpus]\n",
    "avg_len = float(sum(lengths)) / len(lengths)\n",
    "avg_len"
   ]
  },
  {
   "cell_type": "code",
   "execution_count": 7,
   "metadata": {},
   "outputs": [],
   "source": [
    "# train word2vec model \n",
    "sg = 0 # CBOW: build a language model that correctly predicts the center word given the context words in which the center word appears\n",
    "workers = 8 # number of CPUs\n",
    "window = 6 # window size: average length of each document \n",
    "min_count = 1 # unique ingredients are important to decide recipes \n",
    "\n",
    "model_cbow = Word2Vec(corpus, sg=sg, workers=workers, window=window, min_count=min_count, vector_size=100)"
   ]
  },
  {
   "cell_type": "code",
   "execution_count": 9,
   "metadata": {},
   "outputs": [
    {
     "name": "stdout",
     "output_type": "stream",
     "text": [
      "Word2Vec<vocab=4467, vector_size=100, alpha=0.025>\n"
     ]
    }
   ],
   "source": [
    "#Summarize the loaded model\n",
    "print(model_cbow)\n",
    "\n",
    "#Summarize vocabulary\n",
    "words = list(model_cbow.wv.index_to_key)\n",
    "words.sort()\n",
    "# print(words)\n",
    "\n",
    "#Acess vector for one word\n",
    "# print(model_cbow.wv['chicken stock'])\n",
    "\n",
    "# most similar\n",
    "# model_cbow.wv.most_similar(u'cauliflower just larger than potato')\n",
    "# model_cbow.wv.similarity('cauliflower', 'cauliflower just larger than potato')"
   ]
  },
  {
   "cell_type": "code",
   "execution_count": 10,
   "metadata": {},
   "outputs": [],
   "source": [
    "model_cbow.save('models/model_cbow.bin')"
   ]
  },
  {
   "cell_type": "code",
   "execution_count": 11,
   "metadata": {},
   "outputs": [],
   "source": [
    "class MeanEmbeddingVectorizer(object):\n",
    "\n",
    "\tdef __init__(self, word_model):\n",
    "\t\tself.word_model = word_model\n",
    "\t\tself.vector_size = word_model.wv.vector_size\n",
    "\n",
    "\tdef fit(self):  # comply with scikit-learn transformer requirement\n",
    "\t\treturn self\n",
    "\n",
    "\tdef transform(self, docs):  # comply with scikit-learn transformer requirement\n",
    "\t\tdoc_word_vector = self.word_average_list(docs)\n",
    "\t\treturn doc_word_vector\n",
    "\n",
    "\tdef word_average(self, sent):\n",
    "\t\t\"\"\"\n",
    "\t\tCompute average word vector for a single doc/sentence.\n",
    "\t\t:param sent: list of sentence tokens\n",
    "\t\t:return:\n",
    "\t\t\tmean: float of averaging word vectors\n",
    "\t\t\"\"\"\n",
    "\t\tmean = []\n",
    "\t\tfor word in sent:\n",
    "\t\t\tif word in self.word_model.wv.index_to_key:\n",
    "\t\t\t\tmean.append(self.word_model.wv.get_vector(word))\n",
    "\n",
    "\t\tif not mean:  # empty words\n",
    "\t\t\t# If a text is empty, return a vector of zeros.\n",
    "\t\t\tlogging.warning(\"cannot compute average owing to no vector for {}\".format(sent))\n",
    "\t\t\treturn np.zeros(self.vector_size)\n",
    "\t\telse:\n",
    "\t\t\tmean = np.array(mean).mean(axis=0)\n",
    "\t\t\treturn mean\n",
    "\n",
    "\n",
    "\tdef word_average_list(self, docs):\n",
    "\t\t\"\"\"\n",
    "\t\tCompute average word vector for multiple docs, where docs had been tokenized.\n",
    "\t\t:param docs: list of sentence in list of separated tokens\n",
    "\t\t:return:\n",
    "\t\t\tarray of average word vector in shape (len(docs),)\n",
    "\t\t\"\"\"\n",
    "\t\treturn np.vstack([self.word_average(sent) for sent in docs])"
   ]
  },
  {
   "cell_type": "code",
   "execution_count": 12,
   "metadata": {},
   "outputs": [
    {
     "name": "stdout",
     "output_type": "stream",
     "text": [
      "Successfully loaded model\n"
     ]
    },
    {
     "name": "stderr",
     "output_type": "stream",
     "text": [
      "WARNING:root:cannot compute average owing to no vector for []\n",
      "WARNING:root:cannot compute average owing to no vector for []\n",
      "WARNING:root:cannot compute average owing to no vector for []\n"
     ]
    }
   ],
   "source": [
    "# encode document by averaging word embeddings\n",
    "\n",
    "# load model \n",
    "loaded_model = Word2Vec.load('models/model_cbow.bin')\n",
    "if loaded_model:\n",
    "    print(\"Successfully loaded model\")\n",
    "\n",
    "mean_vec_tr = MeanEmbeddingVectorizer(loaded_model)\n",
    "doc_vec = mean_vec_tr.transform(corpus)"
   ]
  }
 ],
 "metadata": {
  "interpreter": {
   "hash": "65e86ed0733f1142eec8ce6d200d79e2af223aab50d601078877b07cd7cef66e"
  },
  "kernelspec": {
   "display_name": "Python 3.9.5 64-bit ('whatscooking': conda)",
   "name": "python3"
  },
  "language_info": {
   "codemirror_mode": {
    "name": "ipython",
    "version": 3
   },
   "file_extension": ".py",
   "mimetype": "text/x-python",
   "name": "python",
   "nbconvert_exporter": "python",
   "pygments_lexer": "ipython3",
   "version": "3.11.2"
  },
  "orig_nbformat": 4
 },
 "nbformat": 4,
 "nbformat_minor": 2
}
